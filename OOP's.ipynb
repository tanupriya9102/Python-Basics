{
 "cells": [
  {
   "cell_type": "code",
   "execution_count": 2,
   "id": "68a6f428",
   "metadata": {},
   "outputs": [
    {
     "data": {
      "text/plain": [
       "['__add__',\n",
       " '__class__',\n",
       " '__contains__',\n",
       " '__delattr__',\n",
       " '__dir__',\n",
       " '__doc__',\n",
       " '__eq__',\n",
       " '__format__',\n",
       " '__ge__',\n",
       " '__getattribute__',\n",
       " '__getitem__',\n",
       " '__getnewargs__',\n",
       " '__gt__',\n",
       " '__hash__',\n",
       " '__init__',\n",
       " '__init_subclass__',\n",
       " '__iter__',\n",
       " '__le__',\n",
       " '__len__',\n",
       " '__lt__',\n",
       " '__mod__',\n",
       " '__mul__',\n",
       " '__ne__',\n",
       " '__new__',\n",
       " '__reduce__',\n",
       " '__reduce_ex__',\n",
       " '__repr__',\n",
       " '__rmod__',\n",
       " '__rmul__',\n",
       " '__setattr__',\n",
       " '__sizeof__',\n",
       " '__str__',\n",
       " '__subclasshook__',\n",
       " 'capitalize',\n",
       " 'casefold',\n",
       " 'center',\n",
       " 'count',\n",
       " 'encode',\n",
       " 'endswith',\n",
       " 'expandtabs',\n",
       " 'find',\n",
       " 'format',\n",
       " 'format_map',\n",
       " 'index',\n",
       " 'isalnum',\n",
       " 'isalpha',\n",
       " 'isascii',\n",
       " 'isdecimal',\n",
       " 'isdigit',\n",
       " 'isidentifier',\n",
       " 'islower',\n",
       " 'isnumeric',\n",
       " 'isprintable',\n",
       " 'isspace',\n",
       " 'istitle',\n",
       " 'isupper',\n",
       " 'join',\n",
       " 'ljust',\n",
       " 'lower',\n",
       " 'lstrip',\n",
       " 'maketrans',\n",
       " 'partition',\n",
       " 'removeprefix',\n",
       " 'removesuffix',\n",
       " 'replace',\n",
       " 'rfind',\n",
       " 'rindex',\n",
       " 'rjust',\n",
       " 'rpartition',\n",
       " 'rsplit',\n",
       " 'rstrip',\n",
       " 'split',\n",
       " 'splitlines',\n",
       " 'startswith',\n",
       " 'strip',\n",
       " 'swapcase',\n",
       " 'title',\n",
       " 'translate',\n",
       " 'upper',\n",
       " 'zfill']"
      ]
     },
     "execution_count": 2,
     "metadata": {},
     "output_type": "execute_result"
    }
   ],
   "source": [
    "# object oriented programming in python\n",
    "dir(\"\")#double _=>special methods\n"
   ]
  },
  {
   "cell_type": "code",
   "execution_count": 6,
   "id": "18a36cbd",
   "metadata": {},
   "outputs": [
    {
     "name": "stdout",
     "output_type": "stream",
     "text": [
      "red\n",
      "SWEET\n"
     ]
    }
   ],
   "source": [
    "# basic\n",
    "class Apple:\n",
    "    color=\"\"\n",
    "    flavour=\"\"\n",
    "Jonagold=Apple()#object\n",
    "Jonagold.color=\"red\"\n",
    "Jonagold.flavour=\"sweet\"\n",
    "print(Jonagold.color)\n",
    "print(Jonagold.flavour.upper())"
   ]
  },
  {
   "cell_type": "code",
   "execution_count": 7,
   "id": "a01f16ee",
   "metadata": {},
   "outputs": [
    {
     "name": "stdout",
     "output_type": "stream",
     "text": [
      "Roses are red,\n",
      "violets are blue,\n",
      "\n"
     ]
    }
   ],
   "source": [
    "class Flower:\n",
    "  color = 'unknown'\n",
    "\n",
    "rose = Flower()\n",
    "rose.color = \"red\"\n",
    "\n",
    "violet =Flower()\n",
    "violet.color = \"blue\"\n",
    "\n",
    "this_pun_is_for_you = ___\n",
    "\n",
    "print(\"Roses are {},\".format(rose.color))\n",
    "print(\"violets are {},\".format(violet.color))\n",
    "print(this_pun_is_for_you) "
   ]
  },
  {
   "cell_type": "code",
   "execution_count": 8,
   "id": "3cfc04bb",
   "metadata": {},
   "outputs": [
    {
     "name": "stdout",
     "output_type": "stream",
     "text": [
      "hi, my name is tanu\n"
     ]
    }
   ],
   "source": [
    "class Person:\n",
    "    def __init__(self, name):#constructor\n",
    "        self.name = name\n",
    "    def greeting(self):\n",
    "        # Should return \"hi, my name is \" followed by the name of the Person.\n",
    "        return (\"hi, my name is {}\".format(self.name))\n",
    "\n",
    "# Create a new instance with a name of your choice\n",
    "some_person =  Person(\"tanu\")\n",
    "# Call the greeting method\n",
    "print(some_person.greeting())\n"
   ]
  },
  {
   "cell_type": "code",
   "execution_count": 9,
   "id": "8ce75c4e",
   "metadata": {},
   "outputs": [
    {
     "name": "stdout",
     "output_type": "stream",
     "text": [
      "<__main__.Apple object at 0x0000022E8315DD80>\n"
     ]
    }
   ],
   "source": [
    "print(Jonagold)#prints address"
   ]
  },
  {
   "cell_type": "code",
   "execution_count": 11,
   "id": "e09a42cf",
   "metadata": {},
   "outputs": [
    {
     "name": "stdout",
     "output_type": "stream",
     "text": [
      "This  apple is red and its flavour is sweet\n"
     ]
    }
   ],
   "source": [
    "# special str method\n",
    "# basic\n",
    "class Apple1:\n",
    "    def __init__(self,color,flavour):\n",
    "        self.color=color\n",
    "        self.flavour=flavour\n",
    "    def __str__(self):\n",
    "        return \"This  apple is {} and its flavour is {}\".format(self.color,self.flavour)\n",
    "    \n",
    "Jona=Apple1(\"red\",\"sweet\")\n",
    "print(Jona)#will print string not address"
   ]
  },
  {
   "cell_type": "code",
   "execution_count": 12,
   "id": "d92b12ef",
   "metadata": {},
   "outputs": [
    {
     "name": "stdout",
     "output_type": "stream",
     "text": [
      "Help on class Apple1 in module __main__:\n",
      "\n",
      "class Apple1(builtins.object)\n",
      " |  Apple1(color, flavour)\n",
      " |  \n",
      " |  Methods defined here:\n",
      " |  \n",
      " |  __init__(self, color, flavour)\n",
      " |      Initialize self.  See help(type(self)) for accurate signature.\n",
      " |  \n",
      " |  __str__(self)\n",
      " |      Return str(self).\n",
      " |  \n",
      " |  ----------------------------------------------------------------------\n",
      " |  Data descriptors defined here:\n",
      " |  \n",
      " |  __dict__\n",
      " |      dictionary for instance variables (if defined)\n",
      " |  \n",
      " |  __weakref__\n",
      " |      list of weak references to the object (if defined)\n",
      "\n"
     ]
    }
   ],
   "source": [
    "help(Apple1)"
   ]
  },
  {
   "cell_type": "code",
   "execution_count": null,
   "id": "1d486416",
   "metadata": {},
   "outputs": [],
   "source": [
    "# docstring\n"
   ]
  }
 ],
 "metadata": {
  "kernelspec": {
   "display_name": "Python 3 (ipykernel)",
   "language": "python",
   "name": "python3"
  },
  "language_info": {
   "codemirror_mode": {
    "name": "ipython",
    "version": 3
   },
   "file_extension": ".py",
   "mimetype": "text/x-python",
   "name": "python",
   "nbconvert_exporter": "python",
   "pygments_lexer": "ipython3",
   "version": "3.10.1"
  }
 },
 "nbformat": 4,
 "nbformat_minor": 5
}
